{
 "cells": [
  {
   "cell_type": "markdown",
   "id": "23aa5844",
   "metadata": {},
   "source": [
    "# 🎯 Fine-Tuning LLM\n",
    "This notebook walks through fine-tuning a transformer model using HuggingFace."
   ]
  },
  {
   "cell_type": "code",
   "execution_count": null,
   "id": "75f2ef95",
   "metadata": {},
   "outputs": [],
   "source": [
    "# Required imports\n",
    "from datasets import load_dataset\n",
    "from transformers import AutoTokenizer, AutoModelForSequenceClassification, Trainer, TrainingArguments"
   ]
  },
  {
   "cell_type": "code",
   "execution_count": null,
   "id": "ed9ec2c3",
   "metadata": {},
   "outputs": [],
   "source": [
    "# Load a small dataset for demonstration\n",
    "dataset = load_dataset('imdb', split='train[:1%]')\n",
    "dataset = dataset.train_test_split(test_size=0.2)"
   ]
  },
  {
   "cell_type": "code",
   "execution_count": null,
   "id": "109de935",
   "metadata": {},
   "outputs": [],
   "source": [
    "# Tokenizer loading and dataset preprocessing\n",
    "tokenizer = AutoTokenizer.from_pretrained('distilbert-base-uncased')\n",
    "\n",
    "def preprocess(example):\n",
    "    return tokenizer(example['text'], truncation=True, padding='max_length')\n",
    "\n",
    "encoded_dataset = dataset.map(preprocess, batched=True)"
   ]
  },
  {
   "cell_type": "code",
   "execution_count": null,
   "id": "4f8b787b",
   "metadata": {},
   "outputs": [],
   "source": [
    "# Load model and prepare training\n",
    "model = AutoModelForSequenceClassification.from_pretrained('distilbert-base-uncased', num_labels=2)\n",
    "\n",
    "training_args = TrainingArguments(\n",
    "    output_dir='./results',\n",
    "    num_train_epochs=1,\n",
    "    per_device_train_batch_size=8,\n",
    "    evaluation_strategy='epoch'\n",
    ")\n",
    "\n",
    "trainer = Trainer(\n",
    "    model=model,\n",
    "    args=training_args,\n",
    "    train_dataset=encoded_dataset['train'],\n",
    "    eval_dataset=encoded_dataset['test']\n",
    ")\n",
    "\n",
    "trainer.train()"
   ]
  }
 ],
 "metadata": {},
 "nbformat": 4,
 "nbformat_minor": 5
}