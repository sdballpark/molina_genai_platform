{
 "cells": [
  {
   "cell_type": "markdown",
   "id": "587fb483",
   "metadata": {},
   "source": [
    "# 🤖 RAG QA Demo\n",
    "This notebook demonstrates retrieval-augmented generation (RAG) from context documents."
   ]
  },
  {
   "cell_type": "code",
   "execution_count": null,
   "id": "e8599012",
   "metadata": {},
   "outputs": [],
   "source": [
    "# Load context and question\n",
    "context = 'Tanium provides endpoint visibility and control for enterprise security.'\n",
    "question = 'What does Tanium do?'"
   ]
  },
  {
   "cell_type": "code",
   "execution_count": null,
   "id": "3ae63c5f",
   "metadata": {},
   "outputs": [],
   "source": [
    "# Simple embedding-based answer generator (placeholder logic)\n",
    "def simple_qa(context, question):\n",
    "    if 'Tanium' in context:\n",
    "        return 'Tanium provides endpoint visibility and control.'\n",
    "    return 'Answer not found.'\n",
    "\n",
    "simple_qa(context, question)"
   ]
  }
 ],
 "metadata": {},
 "nbformat": 4,
 "nbformat_minor": 5
}