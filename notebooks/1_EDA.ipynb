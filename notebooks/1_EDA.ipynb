{
 "cells": [
  {
   "cell_type": "markdown",
   "id": "207da4bc",
   "metadata": {},
   "source": [
    "# 📊 Exploratory Data Analysis (EDA)\n",
    "This notebook performs EDA on a synthetic healthcare dataset."
   ]
  },
  {
   "cell_type": "code",
   "execution_count": null,
   "id": "3c5052f1",
   "metadata": {},
   "outputs": [],
   "source": [
    "# Import required libraries\n",
    "import pandas as pd\n",
    "import matplotlib.pyplot as plt\n",
    "import seaborn as sns"
   ]
  },
  {
   "cell_type": "code",
   "execution_count": null,
   "id": "6c1224ba",
   "metadata": {},
   "outputs": [],
   "source": [
    "# Load dataset from GitHub or local CSV\n",
    "url = 'https://raw.githubusercontent.com/sdballpark/molina_genai_platform/main/data/raw/sample_data.csv'\n",
    "df = pd.read_csv(url)\n",
    "df.head()"
   ]
  },
  {
   "cell_type": "code",
   "execution_count": null,
   "id": "db597134",
   "metadata": {},
   "outputs": [],
   "source": [
    "# Plot pairplot for correlation visualization\n",
    "sns.pairplot(df)\n",
    "plt.show()"
   ]
  }
 ],
 "metadata": {},
 "nbformat": 4,
 "nbformat_minor": 5
}